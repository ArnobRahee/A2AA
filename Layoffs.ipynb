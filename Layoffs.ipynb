{
  "nbformat": 4,
  "nbformat_minor": 0,
  "metadata": {
    "colab": {
      "provenance": [],
      "authorship_tag": "ABX9TyOV+ciucS0quZ5UgIhkkWp/"
    },
    "kernelspec": {
      "name": "python3",
      "display_name": "Python 3"
    },
    "language_info": {
      "name": "python"
    }
  },
  "cells": [
    {
      "cell_type": "code",
      "execution_count": 3,
      "metadata": {
        "colab": {
          "base_uri": "https://localhost:8080/",
          "height": 73
        },
        "id": "hkAAS9joeKSk",
        "outputId": "3c56a804-7152-4c31-ae30-54926069523e"
      },
      "outputs": [
        {
          "output_type": "display_data",
          "data": {
            "text/plain": [
              "<IPython.core.display.HTML object>"
            ],
            "text/html": [
              "\n",
              "     <input type=\"file\" id=\"files-f738b313-34a9-448a-a2f2-0706c936aacd\" name=\"files[]\" multiple disabled\n",
              "        style=\"border:none\" />\n",
              "     <output id=\"result-f738b313-34a9-448a-a2f2-0706c936aacd\">\n",
              "      Upload widget is only available when the cell has been executed in the\n",
              "      current browser session. Please rerun this cell to enable.\n",
              "      </output>\n",
              "      <script>// Copyright 2017 Google LLC\n",
              "//\n",
              "// Licensed under the Apache License, Version 2.0 (the \"License\");\n",
              "// you may not use this file except in compliance with the License.\n",
              "// You may obtain a copy of the License at\n",
              "//\n",
              "//      http://www.apache.org/licenses/LICENSE-2.0\n",
              "//\n",
              "// Unless required by applicable law or agreed to in writing, software\n",
              "// distributed under the License is distributed on an \"AS IS\" BASIS,\n",
              "// WITHOUT WARRANTIES OR CONDITIONS OF ANY KIND, either express or implied.\n",
              "// See the License for the specific language governing permissions and\n",
              "// limitations under the License.\n",
              "\n",
              "/**\n",
              " * @fileoverview Helpers for google.colab Python module.\n",
              " */\n",
              "(function(scope) {\n",
              "function span(text, styleAttributes = {}) {\n",
              "  const element = document.createElement('span');\n",
              "  element.textContent = text;\n",
              "  for (const key of Object.keys(styleAttributes)) {\n",
              "    element.style[key] = styleAttributes[key];\n",
              "  }\n",
              "  return element;\n",
              "}\n",
              "\n",
              "// Max number of bytes which will be uploaded at a time.\n",
              "const MAX_PAYLOAD_SIZE = 100 * 1024;\n",
              "\n",
              "function _uploadFiles(inputId, outputId) {\n",
              "  const steps = uploadFilesStep(inputId, outputId);\n",
              "  const outputElement = document.getElementById(outputId);\n",
              "  // Cache steps on the outputElement to make it available for the next call\n",
              "  // to uploadFilesContinue from Python.\n",
              "  outputElement.steps = steps;\n",
              "\n",
              "  return _uploadFilesContinue(outputId);\n",
              "}\n",
              "\n",
              "// This is roughly an async generator (not supported in the browser yet),\n",
              "// where there are multiple asynchronous steps and the Python side is going\n",
              "// to poll for completion of each step.\n",
              "// This uses a Promise to block the python side on completion of each step,\n",
              "// then passes the result of the previous step as the input to the next step.\n",
              "function _uploadFilesContinue(outputId) {\n",
              "  const outputElement = document.getElementById(outputId);\n",
              "  const steps = outputElement.steps;\n",
              "\n",
              "  const next = steps.next(outputElement.lastPromiseValue);\n",
              "  return Promise.resolve(next.value.promise).then((value) => {\n",
              "    // Cache the last promise value to make it available to the next\n",
              "    // step of the generator.\n",
              "    outputElement.lastPromiseValue = value;\n",
              "    return next.value.response;\n",
              "  });\n",
              "}\n",
              "\n",
              "/**\n",
              " * Generator function which is called between each async step of the upload\n",
              " * process.\n",
              " * @param {string} inputId Element ID of the input file picker element.\n",
              " * @param {string} outputId Element ID of the output display.\n",
              " * @return {!Iterable<!Object>} Iterable of next steps.\n",
              " */\n",
              "function* uploadFilesStep(inputId, outputId) {\n",
              "  const inputElement = document.getElementById(inputId);\n",
              "  inputElement.disabled = false;\n",
              "\n",
              "  const outputElement = document.getElementById(outputId);\n",
              "  outputElement.innerHTML = '';\n",
              "\n",
              "  const pickedPromise = new Promise((resolve) => {\n",
              "    inputElement.addEventListener('change', (e) => {\n",
              "      resolve(e.target.files);\n",
              "    });\n",
              "  });\n",
              "\n",
              "  const cancel = document.createElement('button');\n",
              "  inputElement.parentElement.appendChild(cancel);\n",
              "  cancel.textContent = 'Cancel upload';\n",
              "  const cancelPromise = new Promise((resolve) => {\n",
              "    cancel.onclick = () => {\n",
              "      resolve(null);\n",
              "    };\n",
              "  });\n",
              "\n",
              "  // Wait for the user to pick the files.\n",
              "  const files = yield {\n",
              "    promise: Promise.race([pickedPromise, cancelPromise]),\n",
              "    response: {\n",
              "      action: 'starting',\n",
              "    }\n",
              "  };\n",
              "\n",
              "  cancel.remove();\n",
              "\n",
              "  // Disable the input element since further picks are not allowed.\n",
              "  inputElement.disabled = true;\n",
              "\n",
              "  if (!files) {\n",
              "    return {\n",
              "      response: {\n",
              "        action: 'complete',\n",
              "      }\n",
              "    };\n",
              "  }\n",
              "\n",
              "  for (const file of files) {\n",
              "    const li = document.createElement('li');\n",
              "    li.append(span(file.name, {fontWeight: 'bold'}));\n",
              "    li.append(span(\n",
              "        `(${file.type || 'n/a'}) - ${file.size} bytes, ` +\n",
              "        `last modified: ${\n",
              "            file.lastModifiedDate ? file.lastModifiedDate.toLocaleDateString() :\n",
              "                                    'n/a'} - `));\n",
              "    const percent = span('0% done');\n",
              "    li.appendChild(percent);\n",
              "\n",
              "    outputElement.appendChild(li);\n",
              "\n",
              "    const fileDataPromise = new Promise((resolve) => {\n",
              "      const reader = new FileReader();\n",
              "      reader.onload = (e) => {\n",
              "        resolve(e.target.result);\n",
              "      };\n",
              "      reader.readAsArrayBuffer(file);\n",
              "    });\n",
              "    // Wait for the data to be ready.\n",
              "    let fileData = yield {\n",
              "      promise: fileDataPromise,\n",
              "      response: {\n",
              "        action: 'continue',\n",
              "      }\n",
              "    };\n",
              "\n",
              "    // Use a chunked sending to avoid message size limits. See b/62115660.\n",
              "    let position = 0;\n",
              "    do {\n",
              "      const length = Math.min(fileData.byteLength - position, MAX_PAYLOAD_SIZE);\n",
              "      const chunk = new Uint8Array(fileData, position, length);\n",
              "      position += length;\n",
              "\n",
              "      const base64 = btoa(String.fromCharCode.apply(null, chunk));\n",
              "      yield {\n",
              "        response: {\n",
              "          action: 'append',\n",
              "          file: file.name,\n",
              "          data: base64,\n",
              "        },\n",
              "      };\n",
              "\n",
              "      let percentDone = fileData.byteLength === 0 ?\n",
              "          100 :\n",
              "          Math.round((position / fileData.byteLength) * 100);\n",
              "      percent.textContent = `${percentDone}% done`;\n",
              "\n",
              "    } while (position < fileData.byteLength);\n",
              "  }\n",
              "\n",
              "  // All done.\n",
              "  yield {\n",
              "    response: {\n",
              "      action: 'complete',\n",
              "    }\n",
              "  };\n",
              "}\n",
              "\n",
              "scope.google = scope.google || {};\n",
              "scope.google.colab = scope.google.colab || {};\n",
              "scope.google.colab._files = {\n",
              "  _uploadFiles,\n",
              "  _uploadFilesContinue,\n",
              "};\n",
              "})(self);\n",
              "</script> "
            ]
          },
          "metadata": {}
        },
        {
          "output_type": "stream",
          "name": "stdout",
          "text": [
            "Saving layoffs_data.csv to layoffs_data.csv\n"
          ]
        }
      ],
      "source": [
        "from google.colab import files\n",
        "uploaded = files.upload()"
      ]
    },
    {
      "cell_type": "code",
      "source": [
        "import pandas as pd\n",
        "import numpy as np\n",
        "import matplotlib.pyplot as plt\n",
        "import seaborn as sns\n"
      ],
      "metadata": {
        "id": "6WrRDRZ1hcNn"
      },
      "execution_count": 7,
      "outputs": []
    },
    {
      "cell_type": "code",
      "source": [
        "df = pd.read_csv(\"layoffs_data.csv\")"
      ],
      "metadata": {
        "id": "7c_Y-TGuizb0"
      },
      "execution_count": 63,
      "outputs": []
    },
    {
      "cell_type": "code",
      "source": [
        "grouped_data = df.groupby(['Location_HQ', 'Industry'])['Laid_Off_Count'].sum().reset_index()"
      ],
      "metadata": {
        "id": "FmyyyvkPi7f2"
      },
      "execution_count": null,
      "outputs": []
    },
    {
      "cell_type": "code",
      "source": [
        "df = df[df['Country'] == 'United States']\n"
      ],
      "metadata": {
        "id": "h5Mm4KAQuAQI"
      },
      "execution_count": null,
      "outputs": []
    },
    {
      "cell_type": "code",
      "source": [
        "df = df.reset_index(drop=True)\n",
        "df = df[df['Country'] == 'United States']"
      ],
      "metadata": {
        "id": "1beb6QifuCLV"
      },
      "execution_count": 46,
      "outputs": []
    },
    {
      "cell_type": "code",
      "source": [
        "df_head = df.head()\n",
        "print(df_head)"
      ],
      "metadata": {
        "colab": {
          "base_uri": "https://localhost:8080/"
        },
        "id": "HiZ1sQ4fuibY",
        "outputId": "9d055882-b4e2-477a-c952-9dba19bd8e24"
      },
      "execution_count": 47,
      "outputs": [
        {
          "output_type": "stream",
          "name": "stdout",
          "text": [
            "            Company    Location_HQ        Industry  Laid_Off_Count  \\\n",
            "0  Cityblock Health  New York City      Healthcare           155.0   \n",
            "1        Freshworks    SF Bay Area         Support             NaN   \n",
            "3         HashiCorp    SF Bay Area  Infrastructure             NaN   \n",
            "4          Coherent    SF Bay Area   Manufacturing           196.0   \n",
            "5            Reddit    SF Bay Area        Consumer            90.0   \n",
            "\n",
            "   Percentage        Date                                             Source  \\\n",
            "0        0.12  2023-06-08  https://www.fiercehealthcare.com/providers/cit...   \n",
            "1         NaN  2023-06-08  https://bwdisrupt.businessworld.in/article/Saa...   \n",
            "3        0.08  2023-06-07  https://ir.hashicorp.com/news-releases/news-re...   \n",
            "4         NaN  2023-06-06  https://www.mercurynews.com/2023/06/06/tech-la...   \n",
            "5        0.05  2023-06-06  https://www.wsj.com/articles/reddit-is-cutting...   \n",
            "\n",
            "   Funds_Raised     Stage           Date_Added        Country  \\\n",
            "0         891.0  Series D  2023-06-08 17:24:06  United States   \n",
            "1         484.0  Post-IPO  2023-06-08 17:25:32  United States   \n",
            "3         349.0  Post-IPO  2023-06-07 22:54:55  United States   \n",
            "4           NaN  Post-IPO  2023-06-08 17:22:21  United States   \n",
            "5        1300.0  Series F  2023-06-06 20:34:50  United States   \n",
            "\n",
            "  List_of_Employees_Laid_Off  \n",
            "0                    Unknown  \n",
            "1                    Unknown  \n",
            "3                    Unknown  \n",
            "4                    Unknown  \n",
            "5                    Unknown  \n"
          ]
        }
      ]
    },
    {
      "cell_type": "code",
      "source": [
        "df=df.drop(['Stage'],axis=1)"
      ],
      "metadata": {
        "id": "REmJByLnv4Mi"
      },
      "execution_count": 48,
      "outputs": []
    },
    {
      "cell_type": "code",
      "source": [
        "df = df.drop(['List_of_Employees_Laid_Off', 'Date_Added', 'Date', 'Source'], axis=1)"
      ],
      "metadata": {
        "id": "dC94eTPcvbS1"
      },
      "execution_count": 49,
      "outputs": []
    },
    {
      "cell_type": "code",
      "source": [
        "missing_values = df.isna()"
      ],
      "metadata": {
        "id": "XdvyKEpDkjYl"
      },
      "execution_count": 64,
      "outputs": []
    },
    {
      "cell_type": "code",
      "source": [
        "missing_counts = df.isna().sum()"
      ],
      "metadata": {
        "id": "fw8ncvpSlG1x"
      },
      "execution_count": 65,
      "outputs": []
    },
    {
      "cell_type": "code",
      "source": [
        "# To drop rows with missing values\n",
        "df_cleaned = df.dropna(axis=0)\n",
        "\n",
        "# To drop columns with missing values\n",
        "#df_cleaned = df.dropna(axis=1)"
      ],
      "metadata": {
        "id": "1DtbmeyllNGK"
      },
      "execution_count": 66,
      "outputs": []
    },
    {
      "cell_type": "code",
      "source": [
        "# Fill missing values with the mean of the column\n",
        "df['Laid_Off_Count'] = df['Laid_Off_Count'].fillna(df['Laid_Off_Count'].mean())\n",
        "\n",
        "# Fill missing values with the median of the column\n",
        "df['Laid_Off_Count'] = df['Laid_Off_Count'].fillna(df['Laid_Off_Count'].median())\n",
        "\n",
        "# Fill missing values with the mode of the column\n",
        "df['Laid_Off_Count'] = df['Laid_Off_Count'].fillna(df['Laid_Off_Count'].mode()[0])\n",
        "\n",
        "# Fill missing values with the mean of the column\n",
        "df['Percentage'] = df['Percentage'].fillna(df['Percentage'].mean())\n",
        "\n",
        "# Fill missing values with the median of the column\n",
        "df['Percentage'] = df['Percentage'].fillna(df['Percentage'].median())\n",
        "\n",
        "# Fill missing values with the mode of the column\n",
        "df['Percentage'] = df['Percentage'].fillna(df['Percentage'].mode()[0])\n",
        "\n",
        "# Fill missing values with the mean of the column\n",
        "df['Funds_Raised'] = df['Funds_Raised'].fillna(df['Funds_Raised'].mean())\n",
        "\n",
        "# Fill missing values with the median of the column\n",
        "df['Funds_Raised'] = df['Funds_Raised'].fillna(df['Funds_Raised'].median())\n",
        "\n",
        "# Fill missing values with the mode of the column\n",
        "df['Funds_Raised'] = df['Funds_Raised'].fillna(df['Funds_Raised'].mode()[0])\n",
        "\n"
      ],
      "metadata": {
        "id": "b-PVY0DVlVgz"
      },
      "execution_count": 67,
      "outputs": []
    },
    {
      "cell_type": "code",
      "source": [
        "correlation = df['Laid_Off_Count'].corr(df['Funds_Raised'])"
      ],
      "metadata": {
        "id": "5jXrDYSK4L1X"
      },
      "execution_count": 54,
      "outputs": []
    },
    {
      "cell_type": "code",
      "source": [
        "import matplotlib.pyplot as plt\n",
        "\n",
        "plt.scatter(df['Funds_Raised'], df['Laid_Off_Count'])\n",
        "plt.xlabel('Funds Raised')\n",
        "plt.ylabel('Laid Off Count')\n",
        "plt.show()"
      ],
      "metadata": {
        "colab": {
          "base_uri": "https://localhost:8080/",
          "height": 449
        },
        "id": "KdkfMZiK4N4Z",
        "outputId": "e9d82b21-8a95-46f6-ca8f-ebeef9104315"
      },
      "execution_count": 55,
      "outputs": [
        {
          "output_type": "display_data",
          "data": {
            "text/plain": [
              "<Figure size 640x480 with 1 Axes>"
            ],
            "image/png": "[encoded data removed]"
          },
          "metadata": {}
        }
      ]
    },
    {
      "cell_type": "code",
      "source": [
        "import statsmodels.api as sm\n",
        "from sklearn.preprocessing import LabelEncoder\n",
        "\n",
        "# Initialize the LabelEncoder\n",
        "encoder = LabelEncoder()\n",
        "\n",
        "# Convert the location variable to numerical labels\n",
        "df['Country'] = encoder.fit_transform(df['Country'])\n",
        "# Perform one-hot encoding on the location variable\n",
        "one_hot_encoded = pd.get_dummies(df['Country'], prefix='Stage')\n",
        "\n",
        "# Concatenate the one-hot encoded variables back to the original DataFrame\n",
        "df = pd.concat([df, one_hot_encoded], axis=1)\n",
        "\n",
        "X = df['Funds_Raised']\n",
        "y = df['Percentage']\n",
        "X = sm.add_constant(X)  # Add a constant term for the intercept\n",
        "model = sm.OLS(y, X)\n",
        "results = model.fit()\n",
        "print(results.summary())"
      ],
      "metadata": {
        "colab": {
          "base_uri": "https://localhost:8080/"
        },
        "id": "2MJr6MQx4XFN",
        "outputId": "15765f64-80ac-42d3-b784-e3b4941186f4"
      },
      "execution_count": 71,
      "outputs": [
        {
          "output_type": "stream",
          "name": "stdout",
          "text": [
            "                            OLS Regression Results                            \n",
            "==============================================================================\n",
            "Dep. Variable:             Percentage   R-squared:                       0.002\n",
            "Model:                            OLS   Adj. R-squared:                  0.001\n",
            "Method:                 Least Squares   F-statistic:                     4.854\n",
            "Date:                Fri, 16 Jun 2023   Prob (F-statistic):             0.0277\n",
            "Time:                        03:54:46   Log-Likelihood:                 348.10\n",
            "No. Observations:                2688   AIC:                            -692.2\n",
            "Df Residuals:                    2686   BIC:                            -680.4\n",
            "Df Model:                           1                                         \n",
            "Covariance Type:            nonrobust                                         \n",
            "================================================================================\n",
            "                   coef    std err          t      P>|t|      [0.025      0.975]\n",
            "--------------------------------------------------------------------------------\n",
            "const            0.2632      0.004     63.385      0.000       0.255       0.271\n",
            "Funds_Raised -1.794e-06   8.14e-07     -2.203      0.028   -3.39e-06   -1.97e-07\n",
            "==============================================================================\n",
            "Omnibus:                     1250.204   Durbin-Watson:                   1.899\n",
            "Prob(Omnibus):                  0.000   Jarque-Bera (JB):             5631.499\n",
            "Skew:                           2.292   Prob(JB):                         0.00\n",
            "Kurtosis:                       8.409   Cond. No.                     5.16e+03\n",
            "==============================================================================\n",
            "\n",
            "Notes:\n",
            "[1] Standard Errors assume that the covariance matrix of the errors is correctly specified.\n",
            "[2] The condition number is large, 5.16e+03. This might indicate that there are\n",
            "strong multicollinearity or other numerical problems.\n"
          ]
        }
      ]
    },
    {
      "cell_type": "code",
      "source": [
        "from sklearn.preprocessing import LabelEncoder\n",
        "\n",
        "label_encoder = LabelEncoder()\n",
        "df_encoded_label = df.apply(label_encoder.fit_transform)"
      ],
      "metadata": {
        "id": "GWyGMcGg3DPp"
      },
      "execution_count": 57,
      "outputs": []
    },
    {
      "cell_type": "code",
      "source": [
        "# Filter the data for rows where the country is 'United States'\n",
        "#df_us = df[df['Country'] == 'United States']\n",
        "\n",
        "# Group the filtered data by 'Location_HQ' and 'Industry' and calculate the sum of 'Laid_Off_Count'\n",
        "grouped_data = df.groupby(['Location_HQ', 'Industry'])['Laid_Off_Count'].sum()\n",
        "\n",
        "# Reset the index to convert the grouped data into a DataFrame\n",
        "grouped_data = grouped_data.reset_index()\n",
        "\n",
        "# Find the industry with the highest layoffs for each location\n",
        "highest_layoffs_by_location = grouped_data.groupby('Location_HQ').apply(lambda x: x.loc[x['Laid_Off_Count'].idxmax()])\n",
        "\n",
        "# Print the industry with the highest layoffs for each location within the United States\n",
        "print(\"Industry with the highest layoffs for each location within the United States:\")\n",
        "print(highest_layoffs_by_location[['Location_HQ', 'Industry']])\n"
      ],
      "metadata": {
        "colab": {
          "base_uri": "https://localhost:8080/"
        },
        "id": "GrQmqDNv3Paj",
        "outputId": "ddbcca1f-99d6-4a0f-ec6e-a4a0cb4f0723"
      },
      "execution_count": null,
      "outputs": [
        {
          "output_type": "stream",
          "name": "stdout",
          "text": [
            "Industry with the highest layoffs for each location within the United States:\n",
            "                     Location_HQ        Industry\n",
            "Location_HQ                                     \n",
            "Albany                    Albany          Retail\n",
            "Ann Arbor              Ann Arbor      Healthcare\n",
            "Atlanta                  Atlanta       Marketing\n",
            "Austin                    Austin        Hardware\n",
            "Baltimore              Baltimore            Data\n",
            "Baton Rouge          Baton Rouge        Consumer\n",
            "Beijing                  Beijing        Consumer\n",
            "Bend                        Bend        Consumer\n",
            "Berlin                    Berlin         Finance\n",
            "Birmingham            Birmingham     Real Estate\n",
            "Bismarck                Bismarck       Marketing\n",
            "Boise                      Boise        Hardware\n",
            "Boston                    Boston      Healthcare\n",
            "Boulder                  Boulder              HR\n",
            "Brisbane                Brisbane      Healthcare\n",
            "Burlington            Burlington         Finance\n",
            "Charleston            Charleston           Other\n",
            "Charlotte              Charlotte              HR\n",
            "Charlottesville  Charlottesville       Marketing\n",
            "Chennai                  Chennai            Food\n",
            "Chicago                  Chicago          Retail\n",
            "Cincinnati            Cincinnati            Food\n",
            "Cleveland              Cleveland           Other\n",
            "Columbus                Columbus      Healthcare\n",
            "Copenhagen            Copenhagen         Finance\n",
            "Dallas                    Dallas          Travel\n",
            "Davenport              Davenport      Healthcare\n",
            "Denver                    Denver            Food\n",
            "Detroit                  Detroit  Transportation\n",
            "Dover                      Dover           Other\n",
            "Dubai                      Dubai            Food\n",
            "Durham                    Durham       Marketing\n",
            "Eindhoven              Eindhoven       Logistics\n",
            "Fayetteville        Fayetteville          Retail\n",
            "Grand Rapids        Grand Rapids          Retail\n",
            "Houston                  Houston      Healthcare\n",
            "Huntsville            Huntsville          Retail\n",
            "Indianapolis        Indianapolis           Other\n",
            "Jersey City          Jersey City         Finance\n",
            "Kansas City          Kansas City      Healthcare\n",
            "Las Vegas              Las Vegas          Retail\n",
            "Lehi                        Lehi      Healthcare\n",
            "Lexington              Lexington           Other\n",
            "Little Rock          Little Rock       Marketing\n",
            "Logan                      Logan         Fitness\n",
            "London                    London              HR\n",
            "Los Angeles          Los Angeles        Consumer\n",
            "Louisville            Louisville      Healthcare\n",
            "Madison                  Madison          Retail\n",
            "Melbourne              Melbourne            Food\n",
            "Mexico City          Mexico City     Real Estate\n",
            "Miami                      Miami        Consumer\n",
            "Milwaukee              Milwaukee         Finance\n",
            "Minneapolis          Minneapolis         Finance\n",
            "Missoula                Missoula       Marketing\n",
            "Nashua                    Nashua  Infrastructure\n",
            "Nashville              Nashville  Transportation\n",
            "Nebraska City      Nebraska City          Crypto\n",
            "New Delhi              New Delhi              HR\n",
            "New Haven              New Haven      Healthcare\n",
            "New Hope                New Hope        Consumer\n",
            "New Orleans          New Orleans    Construction\n",
            "New York City      New York City     Real Estate\n",
            "Norfolk                  Norfolk       Logistics\n",
            "Norwalk                  Norwalk  Infrastructure\n",
            "Orlando                  Orlando         Finance\n",
            "Oxford                    Oxford        Security\n",
            "Philadelphia        Philadelphia            Food\n",
            "Phoenix                  Phoenix  Transportation\n",
            "Pittsburgh            Pittsburgh  Transportation\n",
            "Portland                Portland          Travel\n",
            "Providence            Providence        Consumer\n",
            "Raleigh                  Raleigh           Other\n",
            "Reno                        Reno     Real Estate\n",
            "Richmond                Richmond              HR\n",
            "SF Bay Area          SF Bay Area        Consumer\n",
            "Sacramento            Sacramento       Marketing\n",
            "Salt Lake City    Salt Lake City       Marketing\n",
            "San Antonio          San Antonio            Data\n",
            "San Diego              San Diego      Healthcare\n",
            "San Luis Obispo  San Luis Obispo         Fitness\n",
            "Santa Barbara      Santa Barbara            Food\n",
            "Santa Fe                Santa Fe           Media\n",
            "Sao Paulo              Sao Paulo            Food\n",
            "Seattle                  Seattle          Retail\n",
            "Selangor                Selangor        Consumer\n",
            "Singapore              Singapore          Crypto\n",
            "Spokane                  Spokane          Travel\n",
            "St. Louis              St. Louis         Support\n",
            "Stamford                Stamford      Healthcare\n",
            "Stockholm              Stockholm        Consumer\n",
            "Sydney                    Sydney      Healthcare\n",
            "Tampa Bay              Tampa Bay              HR\n",
            "Tel Aviv                Tel Aviv      Healthcare\n",
            "Tokyo                      Tokyo           Media\n",
            "Toronto                  Toronto         Finance\n",
            "Vancouver              Vancouver          Crypto\n",
            "Washington D.C.  Washington D.C.         Finance\n",
            "Wilmington            Wilmington          Crypto\n"
          ]
        }
      ]
    },
    {
      "cell_type": "code",
      "source": [
        "# Filter the data for rows where the country is 'United States'\n",
        "df_us = df[df['Country'] == 'United States']\n",
        "\n",
        "# Group the filtered data by 'Location_HQ' and 'Industry' and calculate the sum of 'Laid_Off_Count'\n",
        "grouped_data = df_us.groupby(['Location_HQ', 'Industry'])['Laid_Off_Count'].sum()\n",
        "\n",
        "# Reset the index to convert the grouped data into a DataFrame\n",
        "grouped_data = grouped_data.reset_index()\n",
        "\n",
        "# Find the industry with the highest layoffs for each location within the United States\n",
        "highest_layoffs_by_location = grouped_data.groupby('Location_HQ').apply(lambda x: x.loc[x['Laid_Off_Count'].idxmax()])\n",
        "\n",
        "# Print the industry with the highest layoffs for each location within the United States\n",
        "print(\"Industry with the highest layoffs for each location within the United States:\")\n",
        "print(highest_layoffs_by_location[['Location_HQ', 'Industry']])\n"
      ],
      "metadata": {
        "colab": {
          "base_uri": "https://localhost:8080/"
        },
        "id": "ZZlKTDSUUY9s",
        "outputId": "e74c1290-acbf-494d-9399-3e988a1780a6"
      },
      "execution_count": null,
      "outputs": [
        {
          "output_type": "stream",
          "name": "stdout",
          "text": [
            "Industry with the highest layoffs for each location within the United States:\n",
            "                     Location_HQ        Industry\n",
            "Location_HQ                                     \n",
            "Albany                    Albany          Retail\n",
            "Ann Arbor              Ann Arbor      Healthcare\n",
            "Atlanta                  Atlanta       Marketing\n",
            "Austin                    Austin        Hardware\n",
            "Baltimore              Baltimore            Data\n",
            "Baton Rouge          Baton Rouge        Consumer\n",
            "Beijing                  Beijing        Consumer\n",
            "Bend                        Bend        Consumer\n",
            "Berlin                    Berlin         Finance\n",
            "Birmingham            Birmingham     Real Estate\n",
            "Bismarck                Bismarck       Marketing\n",
            "Boise                      Boise        Hardware\n",
            "Boston                    Boston      Healthcare\n",
            "Boulder                  Boulder              HR\n",
            "Brisbane                Brisbane      Healthcare\n",
            "Burlington            Burlington         Finance\n",
            "Charleston            Charleston           Other\n",
            "Charlotte              Charlotte              HR\n",
            "Charlottesville  Charlottesville       Marketing\n",
            "Chennai                  Chennai            Food\n",
            "Chicago                  Chicago          Retail\n",
            "Cincinnati            Cincinnati            Food\n",
            "Cleveland              Cleveland           Other\n",
            "Columbus                Columbus      Healthcare\n",
            "Copenhagen            Copenhagen         Finance\n",
            "Dallas                    Dallas          Travel\n",
            "Davenport              Davenport      Healthcare\n",
            "Denver                    Denver            Food\n",
            "Detroit                  Detroit  Transportation\n",
            "Dover                      Dover           Other\n",
            "Dubai                      Dubai            Food\n",
            "Durham                    Durham       Marketing\n",
            "Eindhoven              Eindhoven       Logistics\n",
            "Fayetteville        Fayetteville          Retail\n",
            "Grand Rapids        Grand Rapids          Retail\n",
            "Houston                  Houston      Healthcare\n",
            "Huntsville            Huntsville          Retail\n",
            "Indianapolis        Indianapolis           Other\n",
            "Jersey City          Jersey City         Finance\n",
            "Kansas City          Kansas City      Healthcare\n",
            "Las Vegas              Las Vegas          Retail\n",
            "Lehi                        Lehi      Healthcare\n",
            "Lexington              Lexington           Other\n",
            "Little Rock          Little Rock       Marketing\n",
            "Logan                      Logan         Fitness\n",
            "London                    London              HR\n",
            "Los Angeles          Los Angeles        Consumer\n",
            "Louisville            Louisville      Healthcare\n",
            "Madison                  Madison          Retail\n",
            "Melbourne              Melbourne            Food\n",
            "Mexico City          Mexico City     Real Estate\n",
            "Miami                      Miami        Consumer\n",
            "Milwaukee              Milwaukee         Finance\n",
            "Minneapolis          Minneapolis         Finance\n",
            "Missoula                Missoula       Marketing\n",
            "Nashua                    Nashua  Infrastructure\n",
            "Nashville              Nashville  Transportation\n",
            "Nebraska City      Nebraska City          Crypto\n",
            "New Delhi              New Delhi              HR\n",
            "New Haven              New Haven      Healthcare\n",
            "New Hope                New Hope        Consumer\n",
            "New Orleans          New Orleans    Construction\n",
            "New York City      New York City     Real Estate\n",
            "Norfolk                  Norfolk       Logistics\n",
            "Norwalk                  Norwalk  Infrastructure\n",
            "Orlando                  Orlando         Finance\n",
            "Oxford                    Oxford        Security\n",
            "Philadelphia        Philadelphia            Food\n",
            "Phoenix                  Phoenix  Transportation\n",
            "Pittsburgh            Pittsburgh  Transportation\n",
            "Portland                Portland          Travel\n",
            "Providence            Providence        Consumer\n",
            "Raleigh                  Raleigh           Other\n",
            "Reno                        Reno     Real Estate\n",
            "Richmond                Richmond              HR\n",
            "SF Bay Area          SF Bay Area        Consumer\n",
            "Sacramento            Sacramento       Marketing\n",
            "Salt Lake City    Salt Lake City       Marketing\n",
            "San Antonio          San Antonio            Data\n",
            "San Diego              San Diego      Healthcare\n",
            "San Luis Obispo  San Luis Obispo         Fitness\n",
            "Santa Barbara      Santa Barbara            Food\n",
            "Santa Fe                Santa Fe           Media\n",
            "Sao Paulo              Sao Paulo            Food\n",
            "Seattle                  Seattle          Retail\n",
            "Selangor                Selangor        Consumer\n",
            "Singapore              Singapore          Crypto\n",
            "Spokane                  Spokane          Travel\n",
            "St. Louis              St. Louis         Support\n",
            "Stamford                Stamford      Healthcare\n",
            "Stockholm              Stockholm        Consumer\n",
            "Sydney                    Sydney      Healthcare\n",
            "Tampa Bay              Tampa Bay              HR\n",
            "Tel Aviv                Tel Aviv      Healthcare\n",
            "Tokyo                      Tokyo           Media\n",
            "Toronto                  Toronto         Finance\n",
            "Vancouver              Vancouver          Crypto\n",
            "Washington D.C.  Washington D.C.         Finance\n",
            "Wilmington            Wilmington          Crypto\n"
          ]
        }
      ]
    },
    {
      "cell_type": "code",
      "source": [
        "# Group the data by 'Industry' and 'Location_HQ' and calculate the sum of 'Laid_Off_Count'\n",
        "grouped_data = df.groupby(['Industry', 'Location_HQ'])['Laid_Off_Count'].sum()\n",
        "\n",
        "# Reset the index to convert the grouped data into a DataFrame\n",
        "grouped_data = grouped_data.reset_index()\n",
        "\n",
        "# Find the industry with the highest layoffs across all locations\n",
        "highest_layoffs_industry = grouped_data.groupby('Industry')['Laid_Off_Count'].sum().idxmax()\n",
        "\n",
        "# Print the industry with the highest layoffs across all locations\n",
        "print(\"Industry with highest layoffs across all locations:\", highest_layoffs_industry)\n"
      ],
      "metadata": {
        "colab": {
          "base_uri": "https://localhost:8080/"
        },
        "id": "qdBGsPqMSPwf",
        "outputId": "eef959e7-cc17-44b6-96d7-8a0d828ef761"
      },
      "execution_count": null,
      "outputs": [
        {
          "output_type": "stream",
          "name": "stdout",
          "text": [
            "Industry with highest layoffs across all locations: Consumer\n"
          ]
        }
      ]
    },
    {
      "cell_type": "code",
      "source": [
        "import pandas as pd\n",
        "import matplotlib.pyplot as plt\n",
        "\n",
        "# Read the CSV file into a DataFrame\n",
        "\n",
        "\n",
        "# Group the data by \"Industry\" and calculate the sum of \"Laid_Off_Count\"\n",
        "industry_layoffs = df.groupby('Industry')['Laid_Off_Count'].sum()\n",
        "\n",
        "# Sort the data by the sum of layoffs in descending order\n",
        "industry_layoffs = industry_layoffs.sort_values(ascending=False)\n",
        "\n",
        "# Plot the relationship between industry and layoffs\n",
        "plt.figure(figsize=(12, 6))\n",
        "industry_layoffs.plot(kind='bar')\n",
        "plt.xlabel('Industry')\n",
        "plt.ylabel('Total Laid Off Count')\n",
        "plt.title('Relationship between Industry and Laid Off Count')\n",
        "plt.xticks(rotation=45)\n",
        "plt.show()\n"
      ],
      "metadata": {
        "colab": {
          "base_uri": "https://localhost:8080/",
          "height": 631
        },
        "id": "VWCkE-HKXLTB",
        "outputId": "a00f338c-e3b7-403c-d438-182d53b77237"
      },
      "execution_count": null,
      "outputs": [
        {
          "output_type": "display_data",
          "data": {
            "text/plain": [
              "<Figure size 1200x600 with 1 Axes>"
            ],
            "image/png": "[encoded data removed]"
          },
          "metadata": {}
        }
      ]
    },
    {
      "cell_type": "code",
      "source": [
        "import pandas as pd\n",
        "from sklearn.model_selection import train_test_split\n",
        "from sklearn.preprocessing import LabelEncoder\n",
        "from sklearn.ensemble import RandomForestClassifier\n",
        "from sklearn.metrics import accuracy_score, precision_score, recall_score, f1_score\n",
        "\n",
        "# Read the CSV file into a DataFrame\n",
        "#df = pd.read_csv('your_csv_file.csv')\n",
        "\n",
        "# Split the data into input features (X) and target variable (y)\n",
        "X = df[['Industry', 'Location_HQ', 'Funds_Raised']]\n",
        "y = df['Laid_Off_Count'].apply(lambda x: 1 if x > 0 else 0)  # Convert Laid_Off_Count to binary labels\n",
        "\n",
        "# Encode categorical variables\n",
        "encoder = LabelEncoder()\n",
        "X['Industry'] = encoder.fit_transform(X['Industry'])\n",
        "X['Location_HQ'] = encoder.fit_transform(X['Location_HQ'])\n",
        "\n",
        "# Split the data into training and testing sets\n",
        "X_train, X_test, y_train, y_test = train_test_split(X, y, test_size=0.2, random_state=42)\n",
        "\n",
        "# Choose a Random Forest classifier as the classification model\n",
        "classifier = RandomForestClassifier()\n",
        "\n",
        "# Train the model\n",
        "classifier.fit(X_train, y_train)\n",
        "\n",
        "# Make predictions on the testing set\n",
        "y_pred = classifier.predict(X_test)\n",
        "\n",
        "# Evaluate the model\n",
        "accuracy = accuracy_score(y_test, y_pred)\n",
        "precision = precision_score(y_test, y_pred)\n",
        "recall = recall_score(y_test, y_pred)\n",
        "f1 = f1_score(y_test, y_pred)\n",
        "\n",
        "print(\"Model Evaluation:\")\n",
        "print(\"Accuracy:\", accuracy)\n",
        "print(\"Precision:\", precision)\n",
        "print(\"Recall:\", recall)\n",
        "print(\"F1-Score:\", f1)\n",
        "\n",
        "# Feature Importance Analysis\n",
        "feature_importances = pd.Series(classifier.feature_importances_, index=X.columns)\n",
        "print(\"Feature Importances:\")\n",
        "print(feature_importances)\n"
      ],
      "metadata": {
        "colab": {
          "base_uri": "https://localhost:8080/"
        },
        "id": "yb9Qu1NfY_gV",
        "outputId": "a3862d2e-b8c1-4fb7-b17f-dad3fb8c3388"
      },
      "execution_count": null,
      "outputs": [
        {
          "output_type": "stream",
          "name": "stdout",
          "text": [
            "Model Evaluation:\n",
            "Accuracy: 1.0\n",
            "Precision: 1.0\n",
            "Recall: 1.0\n",
            "F1-Score: 1.0\n",
            "Feature Importances:\n",
            "Industry        0.0\n",
            "Location_HQ     0.0\n",
            "Funds_Raised    0.0\n",
            "dtype: float64\n"
          ]
        },
        {
          "output_type": "stream",
          "name": "stderr",
          "text": [
            "<ipython-input-87-fc3f890216ce>:16: SettingWithCopyWarning: \n",
            "A value is trying to be set on a copy of a slice from a DataFrame.\n",
            "Try using .loc[row_indexer,col_indexer] = value instead\n",
            "\n",
            "See the caveats in the documentation: https://pandas.pydata.org/pandas-docs/stable/user_guide/indexing.html#returning-a-view-versus-a-copy\n",
            "  X['Industry'] = encoder.fit_transform(X['Industry'])\n",
            "<ipython-input-87-fc3f890216ce>:17: SettingWithCopyWarning: \n",
            "A value is trying to be set on a copy of a slice from a DataFrame.\n",
            "Try using .loc[row_indexer,col_indexer] = value instead\n",
            "\n",
            "See the caveats in the documentation: https://pandas.pydata.org/pandas-docs/stable/user_guide/indexing.html#returning-a-view-versus-a-copy\n",
            "  X['Location_HQ'] = encoder.fit_transform(X['Location_HQ'])\n"
          ]
        }
      ]
    },
    {
      "cell_type": "code",
      "source": [
        "import pandas as pd\n",
        "from sklearn.model_selection import train_test_split\n",
        "from sklearn.preprocessing import LabelEncoder\n",
        "from sklearn.ensemble import RandomForestClassifier\n",
        "from sklearn.metrics import accuracy_score, precision_score, recall_score, f1_score\n",
        "\n",
        "# Read the CSV file into a DataFrame\n",
        "#df = pd.read_csv('layoffs_data.csv')\n",
        "\n",
        "# Drop rows where the Country is not the United States\n",
        "#df = df[df['Country'] == 'United States']\n",
        "\n",
        "# Split the data into input features (X) and target variable (y)\n",
        "X = df[['Industry', 'Location_HQ', 'Funds_Raised']]\n",
        "y = df['Laid_Off_Count'].apply(lambda x: 1 if x > 0 else 0)  # Convert Laid_Off_Count to binary labels\n",
        "\n",
        "# Encode categorical variables\n",
        "encoder = LabelEncoder()\n",
        "X.loc[:, 'Industry'] = encoder.fit_transform(X.loc[:, 'Industry'])\n",
        "X.loc[:, 'Location_HQ'] = encoder.fit_transform(X.loc[:, 'Location_HQ'])\n",
        "\n",
        "# Split the data into training and testing sets\n",
        "X_train, X_test, y_train, y_test = train_test_split(X, y, test_size=0.2, random_state=42)\n",
        "\n",
        "# Choose a Random Forest classifier as the classification model\n",
        "classifier = RandomForestClassifier()\n",
        "\n",
        "# Train the model\n",
        "classifier.fit(X_train, y_train)\n",
        "\n",
        "# Make predictions on the testing set\n",
        "y_pred = classifier.predict(X_test)\n",
        "\n",
        "# Evaluate the model\n",
        "accuracy = accuracy_score(y_test, y_pred)\n",
        "precision = precision_score(y_test, y_pred)\n",
        "recall = recall_score(y_test, y_pred)\n",
        "f1 = f1_score(y_test, y_pred)\n",
        "\n",
        "print(\"Model Evaluation:\")\n",
        "print(\"Accuracy:\", accuracy)\n",
        "print(\"Precision:\", precision)\n",
        "print(\"Recall:\", recall)\n",
        "print(\"F1-Score:\", f1)\n",
        "\n",
        "# Feature Importance Analysis\n",
        "feature_importances = pd.Series(classifier.feature_importances_, index=X.columns)\n",
        "print(\"Feature Importances:\")\n",
        "print(feature_importances)\n"
      ],
      "metadata": {
        "colab": {
          "base_uri": "https://localhost:8080/",
          "height": 747
        },
        "id": "3iTdixz_Zzeg",
        "outputId": "524ed154-1548-4660-fd2a-3d0d7b9aaf2a"
      },
      "execution_count": null,
      "outputs": [
        {
          "output_type": "stream",
          "name": "stderr",
          "text": [
            "<ipython-input-93-d8b12da78472>:19: SettingWithCopyWarning: \n",
            "A value is trying to be set on a copy of a slice from a DataFrame.\n",
            "Try using .loc[row_indexer,col_indexer] = value instead\n",
            "\n",
            "See the caveats in the documentation: https://pandas.pydata.org/pandas-docs/stable/user_guide/indexing.html#returning-a-view-versus-a-copy\n",
            "  X.loc[:, 'Industry'] = encoder.fit_transform(X.loc[:, 'Industry'])\n",
            "<ipython-input-93-d8b12da78472>:19: DeprecationWarning: In a future version, `df.iloc[:, i] = newvals` will attempt to set the values inplace instead of always setting a new array. To retain the old behavior, use either `df[df.columns[i]] = newvals` or, if columns are non-unique, `df.isetitem(i, newvals)`\n",
            "  X.loc[:, 'Industry'] = encoder.fit_transform(X.loc[:, 'Industry'])\n",
            "<ipython-input-93-d8b12da78472>:20: SettingWithCopyWarning: \n",
            "A value is trying to be set on a copy of a slice from a DataFrame.\n",
            "Try using .loc[row_indexer,col_indexer] = value instead\n",
            "\n",
            "See the caveats in the documentation: https://pandas.pydata.org/pandas-docs/stable/user_guide/indexing.html#returning-a-view-versus-a-copy\n",
            "  X.loc[:, 'Location_HQ'] = encoder.fit_transform(X.loc[:, 'Location_HQ'])\n",
            "<ipython-input-93-d8b12da78472>:20: DeprecationWarning: In a future version, `df.iloc[:, i] = newvals` will attempt to set the values inplace instead of always setting a new array. To retain the old behavior, use either `df[df.columns[i]] = newvals` or, if columns are non-unique, `df.isetitem(i, newvals)`\n",
            "  X.loc[:, 'Location_HQ'] = encoder.fit_transform(X.loc[:, 'Location_HQ'])\n"
          ]
        },
        {
          "output_type": "error",
          "ename": "ValueError",
          "evalue": "ignored",
          "traceback": [
            "\u001b[0;31m---------------------------------------------------------------------------\u001b[0m",
            "\u001b[0;31mValueError\u001b[0m                                Traceback (most recent call last)",
            "\u001b[0;32m<ipython-input-93-d8b12da78472>\u001b[0m in \u001b[0;36m<cell line: 29>\u001b[0;34m()\u001b[0m\n\u001b[1;32m     27\u001b[0m \u001b[0;34m\u001b[0m\u001b[0m\n\u001b[1;32m     28\u001b[0m \u001b[0;31m# Train the model\u001b[0m\u001b[0;34m\u001b[0m\u001b[0;34m\u001b[0m\u001b[0m\n\u001b[0;32m---> 29\u001b[0;31m \u001b[0mclassifier\u001b[0m\u001b[0;34m.\u001b[0m\u001b[0mfit\u001b[0m\u001b[0;34m(\u001b[0m\u001b[0mX_train\u001b[0m\u001b[0;34m,\u001b[0m \u001b[0my_train\u001b[0m\u001b[0;34m)\u001b[0m\u001b[0;34m\u001b[0m\u001b[0;34m\u001b[0m\u001b[0m\n\u001b[0m\u001b[1;32m     30\u001b[0m \u001b[0;34m\u001b[0m\u001b[0m\n\u001b[1;32m     31\u001b[0m \u001b[0;31m# Make predictions on the testing set\u001b[0m\u001b[0;34m\u001b[0m\u001b[0;34m\u001b[0m\u001b[0m\n",
            "\u001b[0;32m/usr/local/lib/python3.10/dist-packages/sklearn/ensemble/_forest.py\u001b[0m in \u001b[0;36mfit\u001b[0;34m(self, X, y, sample_weight)\u001b[0m\n\u001b[1;32m    343\u001b[0m         \u001b[0;32mif\u001b[0m \u001b[0missparse\u001b[0m\u001b[0;34m(\u001b[0m\u001b[0my\u001b[0m\u001b[0;34m)\u001b[0m\u001b[0;34m:\u001b[0m\u001b[0;34m\u001b[0m\u001b[0;34m\u001b[0m\u001b[0m\n\u001b[1;32m    344\u001b[0m             \u001b[0;32mraise\u001b[0m \u001b[0mValueError\u001b[0m\u001b[0;34m(\u001b[0m\u001b[0;34m\"sparse multilabel-indicator for y is not supported.\"\u001b[0m\u001b[0;34m)\u001b[0m\u001b[0;34m\u001b[0m\u001b[0;34m\u001b[0m\u001b[0m\n\u001b[0;32m--> 345\u001b[0;31m         X, y = self._validate_data(\n\u001b[0m\u001b[1;32m    346\u001b[0m             \u001b[0mX\u001b[0m\u001b[0;34m,\u001b[0m \u001b[0my\u001b[0m\u001b[0;34m,\u001b[0m \u001b[0mmulti_output\u001b[0m\u001b[0;34m=\u001b[0m\u001b[0;32mTrue\u001b[0m\u001b[0;34m,\u001b[0m \u001b[0maccept_sparse\u001b[0m\u001b[0;34m=\u001b[0m\u001b[0;34m\"csc\"\u001b[0m\u001b[0;34m,\u001b[0m \u001b[0mdtype\u001b[0m\u001b[0;34m=\u001b[0m\u001b[0mDTYPE\u001b[0m\u001b[0;34m\u001b[0m\u001b[0;34m\u001b[0m\u001b[0m\n\u001b[1;32m    347\u001b[0m         )\n",
            "\u001b[0;32m/usr/local/lib/python3.10/dist-packages/sklearn/base.py\u001b[0m in \u001b[0;36m_validate_data\u001b[0;34m(self, X, y, reset, validate_separately, **check_params)\u001b[0m\n\u001b[1;32m    582\u001b[0m                 \u001b[0my\u001b[0m \u001b[0;34m=\u001b[0m \u001b[0mcheck_array\u001b[0m\u001b[0;34m(\u001b[0m\u001b[0my\u001b[0m\u001b[0;34m,\u001b[0m \u001b[0minput_name\u001b[0m\u001b[0;34m=\u001b[0m\u001b[0;34m\"y\"\u001b[0m\u001b[0;34m,\u001b[0m \u001b[0;34m**\u001b[0m\u001b[0mcheck_y_params\u001b[0m\u001b[0;34m)\u001b[0m\u001b[0;34m\u001b[0m\u001b[0;34m\u001b[0m\u001b[0m\n\u001b[1;32m    583\u001b[0m             \u001b[0;32melse\u001b[0m\u001b[0;34m:\u001b[0m\u001b[0;34m\u001b[0m\u001b[0;34m\u001b[0m\u001b[0m\n\u001b[0;32m--> 584\u001b[0;31m                 \u001b[0mX\u001b[0m\u001b[0;34m,\u001b[0m \u001b[0my\u001b[0m \u001b[0;34m=\u001b[0m \u001b[0mcheck_X_y\u001b[0m\u001b[0;34m(\u001b[0m\u001b[0mX\u001b[0m\u001b[0;34m,\u001b[0m \u001b[0my\u001b[0m\u001b[0;34m,\u001b[0m \u001b[0;34m**\u001b[0m\u001b[0mcheck_params\u001b[0m\u001b[0;34m)\u001b[0m\u001b[0;34m\u001b[0m\u001b[0;34m\u001b[0m\u001b[0m\n\u001b[0m\u001b[1;32m    585\u001b[0m             \u001b[0mout\u001b[0m \u001b[0;34m=\u001b[0m \u001b[0mX\u001b[0m\u001b[0;34m,\u001b[0m \u001b[0my\u001b[0m\u001b[0;34m\u001b[0m\u001b[0;34m\u001b[0m\u001b[0m\n\u001b[1;32m    586\u001b[0m \u001b[0;34m\u001b[0m\u001b[0m\n",
            "\u001b[0;32m/usr/local/lib/python3.10/dist-packages/sklearn/utils/validation.py\u001b[0m in \u001b[0;36mcheck_X_y\u001b[0;34m(X, y, accept_sparse, accept_large_sparse, dtype, order, copy, force_all_finite, ensure_2d, allow_nd, multi_output, ensure_min_samples, ensure_min_features, y_numeric, estimator)\u001b[0m\n\u001b[1;32m   1104\u001b[0m         )\n\u001b[1;32m   1105\u001b[0m \u001b[0;34m\u001b[0m\u001b[0m\n\u001b[0;32m-> 1106\u001b[0;31m     X = check_array(\n\u001b[0m\u001b[1;32m   1107\u001b[0m         \u001b[0mX\u001b[0m\u001b[0;34m,\u001b[0m\u001b[0;34m\u001b[0m\u001b[0;34m\u001b[0m\u001b[0m\n\u001b[1;32m   1108\u001b[0m         \u001b[0maccept_sparse\u001b[0m\u001b[0;34m=\u001b[0m\u001b[0maccept_sparse\u001b[0m\u001b[0;34m,\u001b[0m\u001b[0;34m\u001b[0m\u001b[0;34m\u001b[0m\u001b[0m\n",
            "\u001b[0;32m/usr/local/lib/python3.10/dist-packages/sklearn/utils/validation.py\u001b[0m in \u001b[0;36mcheck_array\u001b[0;34m(array, accept_sparse, accept_large_sparse, dtype, order, copy, force_all_finite, ensure_2d, allow_nd, ensure_min_samples, ensure_min_features, estimator, input_name)\u001b[0m\n\u001b[1;32m    919\u001b[0m \u001b[0;34m\u001b[0m\u001b[0m\n\u001b[1;32m    920\u001b[0m         \u001b[0;32mif\u001b[0m \u001b[0mforce_all_finite\u001b[0m\u001b[0;34m:\u001b[0m\u001b[0;34m\u001b[0m\u001b[0;34m\u001b[0m\u001b[0m\n\u001b[0;32m--> 921\u001b[0;31m             _assert_all_finite(\n\u001b[0m\u001b[1;32m    922\u001b[0m                 \u001b[0marray\u001b[0m\u001b[0;34m,\u001b[0m\u001b[0;34m\u001b[0m\u001b[0;34m\u001b[0m\u001b[0m\n\u001b[1;32m    923\u001b[0m                 \u001b[0minput_name\u001b[0m\u001b[0;34m=\u001b[0m\u001b[0minput_name\u001b[0m\u001b[0;34m,\u001b[0m\u001b[0;34m\u001b[0m\u001b[0;34m\u001b[0m\u001b[0m\n",
            "\u001b[0;32m/usr/local/lib/python3.10/dist-packages/sklearn/utils/validation.py\u001b[0m in \u001b[0;36m_assert_all_finite\u001b[0;34m(X, allow_nan, msg_dtype, estimator_name, input_name)\u001b[0m\n\u001b[1;32m    159\u001b[0m                 \u001b[0;34m\"#estimators-that-handle-nan-values\"\u001b[0m\u001b[0;34m\u001b[0m\u001b[0;34m\u001b[0m\u001b[0m\n\u001b[1;32m    160\u001b[0m             )\n\u001b[0;32m--> 161\u001b[0;31m         \u001b[0;32mraise\u001b[0m \u001b[0mValueError\u001b[0m\u001b[0;34m(\u001b[0m\u001b[0mmsg_err\u001b[0m\u001b[0;34m)\u001b[0m\u001b[0;34m\u001b[0m\u001b[0;34m\u001b[0m\u001b[0m\n\u001b[0m\u001b[1;32m    162\u001b[0m \u001b[0;34m\u001b[0m\u001b[0m\n\u001b[1;32m    163\u001b[0m \u001b[0;34m\u001b[0m\u001b[0m\n",
            "\u001b[0;31mValueError\u001b[0m: Input X contains NaN.\nRandomForestClassifier does not accept missing values encoded as NaN natively. For supervised learning, you might want to consider sklearn.ensemble.HistGradientBoostingClassifier and Regressor which accept missing values encoded as NaNs natively. Alternatively, it is possible to preprocess the data, for instance by using an imputer transformer in a pipeline or drop samples with missing values. See https://scikit-learn.org/stable/modules/impute.html You can find a list of all estimators that handle NaN values at the following page: https://scikit-learn.org/stable/modules/impute.html#estimators-that-handle-nan-values"
          ]
        }
      ]
    },
    {
      "cell_type": "markdown",
      "source": [
        "**knn**"
      ],
      "metadata": {
        "id": "661T6lPnbag3"
      }
    },
    {
      "cell_type": "code",
      "source": [
        "import pandas as pd\n",
        "from sklearn.model_selection import train_test_split\n",
        "from sklearn.preprocessing import LabelEncoder\n",
        "from sklearn.neighbors import KNeighborsClassifier\n",
        "from sklearn.metrics import accuracy_score, precision_score, recall_score, f1_score\n",
        "df = df[df['Country'] == 'United States']\n",
        "X = df[['Industry', 'Location_HQ', 'Funds_Raised']]\n",
        "y = df['Laid_Off_Count'].apply(lambda x: 1 if x > 0 else 0) # Convert Laid_Off_Count to binary labels\n",
        "encoder = LabelEncoder()\n",
        "X.loc[:, 'Industry'] = encoder.fit_transform(X.loc[:, 'Industry'])\n",
        "X.loc[:, 'Location_HQ'] = encoder.fit_transform(X.loc[:, 'Location_HQ'])\n",
        "X_train, X_test, y_train, y_test = train_test_split(X, y, test_size=0.2, random_state=42)\n",
        "classifier = KNeighborsClassifier()\n",
        "classifier.fit(X_train, y_train)\n",
        "y_pred = classifier.predict(X_test)\n",
        "accuracy = accuracy_score(y_test, y_pred)\n",
        "precision = precision_score(y_test, y_pred)\n",
        "recall = recall_score(y_test, y_pred)\n",
        "f1 = f1_score(y_test, y_pred)\n",
        "\n",
        "print(\"Model Evaluation:\")\n",
        "print(\"Accuracy:\", accuracy)\n",
        "print(\"Precision:\", precision)\n",
        "print(\"Recall:\", recall)\n",
        "print(\"F1-Score:\", f1)\n",
        "\n",
        "#Feature Importance Analysis (Not applicable for K-Nearest Neighbors)\n",
        "print(\"Feature Importances: N/A for K-Nearest Neighbors\")\n",
        "\n",
        "\n"
      ],
      "metadata": {
        "colab": {
          "base_uri": "https://localhost:8080/"
        },
        "id": "VT7-3dplbdct",
        "outputId": "8796365f-31ba-4e6d-9c3b-3b37edf74b0c"
      },
      "execution_count": null,
      "outputs": [
        {
          "output_type": "stream",
          "name": "stdout",
          "text": [
            "Model Evaluation:\n",
            "Accuracy: 1.0\n",
            "Precision: 1.0\n",
            "Recall: 1.0\n",
            "F1-Score: 1.0\n",
            "Feature Importances: N/A for K-Nearest Neighbors\n"
          ]
        },
        {
          "output_type": "stream",
          "name": "stderr",
          "text": [
            "<ipython-input-90-9f8313a35035>:10: SettingWithCopyWarning: \n",
            "A value is trying to be set on a copy of a slice from a DataFrame.\n",
            "Try using .loc[row_indexer,col_indexer] = value instead\n",
            "\n",
            "See the caveats in the documentation: https://pandas.pydata.org/pandas-docs/stable/user_guide/indexing.html#returning-a-view-versus-a-copy\n",
            "  X.loc[:, 'Industry'] = encoder.fit_transform(X.loc[:, 'Industry'])\n",
            "<ipython-input-90-9f8313a35035>:10: DeprecationWarning: In a future version, `df.iloc[:, i] = newvals` will attempt to set the values inplace instead of always setting a new array. To retain the old behavior, use either `df[df.columns[i]] = newvals` or, if columns are non-unique, `df.isetitem(i, newvals)`\n",
            "  X.loc[:, 'Industry'] = encoder.fit_transform(X.loc[:, 'Industry'])\n",
            "<ipython-input-90-9f8313a35035>:11: SettingWithCopyWarning: \n",
            "A value is trying to be set on a copy of a slice from a DataFrame.\n",
            "Try using .loc[row_indexer,col_indexer] = value instead\n",
            "\n",
            "See the caveats in the documentation: https://pandas.pydata.org/pandas-docs/stable/user_guide/indexing.html#returning-a-view-versus-a-copy\n",
            "  X.loc[:, 'Location_HQ'] = encoder.fit_transform(X.loc[:, 'Location_HQ'])\n",
            "<ipython-input-90-9f8313a35035>:11: DeprecationWarning: In a future version, `df.iloc[:, i] = newvals` will attempt to set the values inplace instead of always setting a new array. To retain the old behavior, use either `df[df.columns[i]] = newvals` or, if columns are non-unique, `df.isetitem(i, newvals)`\n",
            "  X.loc[:, 'Location_HQ'] = encoder.fit_transform(X.loc[:, 'Location_HQ'])\n"
          ]
        }
      ]
    },
    {
      "cell_type": "code",
      "source": [
        "import pandas as pd\n",
        "from mlxtend.preprocessing import TransactionEncoder\n",
        "from mlxtend.frequent_patterns import apriori, association_rules\n",
        "\n",
        "# Read the CSV file into a DataFrame\n",
        "#df = pd.read_csv('layoffs_data.csv')\n",
        "\n",
        "# Drop rows where the Country is not the United States\n",
        "#df = df[df['Country'] == 'United States']\n",
        "\n",
        "# Preprocess the data\n",
        "df = df.dropna()  # Remove rows with missing values\n",
        "df = df[['Funds_Raised', 'Percentage']]  # Select relevant columns\n",
        "\n",
        "\n",
        "# Transform the data into a transaction format\n",
        "transactions = df.groupby('Funds_Raised')['Percentage'].apply(list).values.tolist()\n",
        "\n",
        "# Encode the transactions\n",
        "te = TransactionEncoder()\n",
        "te_array = te.fit_transform(transactions)\n",
        "df_encoded = pd.DataFrame(te_array, columns=te.columns_)\n",
        "\n",
        "# Apply association rule mining\n",
        "frequent_itemsets = apriori(df_encoded, min_support=0.1, use_colnames=True)\n",
        "association_rules = association_rules(frequent_itemsets, metric='confidence', min_threshold=0.7)\n",
        "\n",
        "# Print the frequent itemsets\n",
        "print(\"Frequent Itemsets:\")\n",
        "print(frequent_itemsets)\n",
        "\n",
        "# Print the association rules\n",
        "print(\"Association Rules:\")\n",
        "print(association_rules)\n"
      ],
      "metadata": {
        "colab": {
          "base_uri": "https://localhost:8080/"
        },
        "id": "jRppEYtOL257",
        "outputId": "2d7beb64-b8d1-46ff-fb20-74194cbb1f11"
      },
      "execution_count": 78,
      "outputs": [
        {
          "output_type": "stream",
          "name": "stdout",
          "text": [
            "Frequent Itemsets:\n",
            "    support                   itemsets\n",
            "0  0.213855                      (0.1)\n",
            "1  0.150602                     (0.15)\n",
            "2  0.162651                      (0.2)\n",
            "3  0.115964                     (0.25)\n",
            "4  0.581325       (0.2617837157246783)\n",
            "5  0.103916                      (0.3)\n",
            "6  0.102410                      (1.0)\n",
            "7  0.129518  (0.2617837157246783, 0.1)\n",
            "8  0.114458  (0.2617837157246783, 0.2)\n",
            "Association Rules:\n",
            "  antecedents           consequents  antecedent support  consequent support  \\\n",
            "0       (0.2)  (0.2617837157246783)            0.162651            0.581325   \n",
            "\n",
            "    support  confidence      lift  leverage  conviction  \n",
            "0  0.114458    0.703704  1.210516  0.019905    1.413027  \n"
          ]
        }
      ]
    },
    {
      "cell_type": "markdown",
      "source": [
        "**Causation**"
      ],
      "metadata": {
        "id": "iGFyuvkYaney"
      }
    },
    {
      "cell_type": "code",
      "source": [
        "import pandas as pd\n",
        "import numpy as np\n",
        "import statsmodels.api as sm\n",
        "import seaborn as sns\n",
        "import matplotlib.pyplot as plt\n",
        "\n",
        "# Step 1: Define your research question\n",
        "# Hypothesis: There is a causal relationship between the amount of funds raised and the percentage of layoffs.\n",
        "\n",
        "# Step 2: Design a study\n",
        "# Assuming you have a CSV file named 'data.csv' with columns 'Funds_Raised' and 'Percentage'\n",
        "\n",
        "# Step 3: Identify causal mechanisms\n",
        "# Load the data\n",
        "#df = pd.read_csv('data.csv')\n",
        "\n",
        "# Explore and visualize the relationship between 'Funds_Raised' and 'Percentage'\n",
        "sns.scatterplot(data=df, x='Funds_Raised', y='Percentage')\n",
        "plt.xlabel('Funds Raised')\n",
        "plt.ylabel('Percentage')\n",
        "plt.show()\n",
        "\n",
        "# Calculate descriptive statistics\n",
        "correlation = df['Funds_Raised'].corr(df['Percentage'])\n",
        "print(f\"Correlation between Funds Raised and Percentage: {correlation}\")\n",
        "\n",
        "# Step 4: Control for confounding variables\n",
        "# Perform multiple regression to control for confounding variables\n",
        "X = df['Funds_Raised']\n",
        "X = sm.add_constant(X)\n",
        "y = df['Percentage']\n",
        "\n",
        "model = sm.OLS(y, X)\n",
        "results = model.fit()\n",
        "print(results.summary())\n",
        "\n",
        "# Step 5: Analyze the data\n",
        "# Interpret the results and draw conclusions based on the analysis\n",
        "p_value = results.pvalues['Funds_Raised']\n",
        "if p_value < 0.05:\n",
        "    print(\"There is a significant relationship between Funds Raised and Percentage.\")\n",
        "else:\n",
        "    print(\"There is no significant relationship between Funds Raised and Percentage.\")\n"
      ],
      "metadata": {
        "colab": {
          "base_uri": "https://localhost:8080/",
          "height": 952
        },
        "id": "Nfl1G6Swap0F",
        "outputId": "5ba4695a-e522-4349-88df-2ce5a049efb3"
      },
      "execution_count": 79,
      "outputs": [
        {
          "output_type": "display_data",
          "data": {
            "text/plain": [
              "<Figure size 640x480 with 1 Axes>"
            ],
            "image/png": "[encoded data removed]"
          },
          "metadata": {}
        },
        {
          "output_type": "stream",
          "name": "stdout",
          "text": [
            "Correlation between Funds Raised and Percentage: -0.04247288809378125\n",
            "                            OLS Regression Results                            \n",
            "==============================================================================\n",
            "Dep. Variable:             Percentage   R-squared:                       0.002\n",
            "Model:                            OLS   Adj. R-squared:                  0.001\n",
            "Method:                 Least Squares   F-statistic:                     4.852\n",
            "Date:                Fri, 16 Jun 2023   Prob (F-statistic):             0.0277\n",
            "Time:                        04:16:12   Log-Likelihood:                 347.47\n",
            "No. Observations:                2687   AIC:                            -690.9\n",
            "Df Residuals:                    2685   BIC:                            -679.2\n",
            "Df Model:                           1                                         \n",
            "Covariance Type:            nonrobust                                         \n",
            "================================================================================\n",
            "                   coef    std err          t      P>|t|      [0.025      0.975]\n",
            "--------------------------------------------------------------------------------\n",
            "const            0.2632      0.004     63.361      0.000       0.255       0.271\n",
            "Funds_Raised -1.794e-06   8.14e-07     -2.203      0.028   -3.39e-06   -1.97e-07\n",
            "==============================================================================\n",
            "Omnibus:                     1249.417   Durbin-Watson:                   1.899\n",
            "Prob(Omnibus):                  0.000   Jarque-Bera (JB):             5624.705\n",
            "Skew:                           2.292   Prob(JB):                         0.00\n",
            "Kurtosis:                       8.406   Cond. No.                     5.16e+03\n",
            "==============================================================================\n",
            "\n",
            "Notes:\n",
            "[1] Standard Errors assume that the covariance matrix of the errors is correctly specified.\n",
            "[2] The condition number is large, 5.16e+03. This might indicate that there are\n",
            "strong multicollinearity or other numerical problems.\n",
            "There is a significant relationship between Funds Raised and Percentage.\n"
          ]
        }
      ]
    }
  ]
}